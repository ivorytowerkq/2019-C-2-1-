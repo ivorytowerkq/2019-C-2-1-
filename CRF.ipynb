{
 "cells": [
  {
   "cell_type": "code",
   "execution_count": 1,
   "metadata": {
    "collapsed": false
   },
   "outputs": [],
   "source": [
    "import numpy as np\n",
    "import pydensecrf.densecrf as dcrf"
   ]
  },
  {
   "cell_type": "code",
   "execution_count": 2,
   "metadata": {
    "collapsed": true
   },
   "outputs": [],
   "source": [
    "from skimage.io import imread, imsave"
   ]
  },
  {
   "cell_type": "code",
   "execution_count": 3,
   "metadata": {
    "collapsed": true
   },
   "outputs": [],
   "source": [
    "from pydensecrf.utils import unary_from_labels, create_pairwise_bilateral, create_pairwise_gaussian"
   ]
  },
  {
   "cell_type": "code",
   "execution_count": 4,
   "metadata": {
    "collapsed": true
   },
   "outputs": [],
   "source": [
    "from skimage.color import gray2rgb\n",
    "from skimage.color import rgb2gray\n",
    "import matplotlib.pyplot as plt\n",
    "%matplotlib inline"
   ]
  },
  {
   "cell_type": "code",
   "execution_count": 5,
   "metadata": {
    "collapsed": true
   },
   "outputs": [],
   "source": [
    "\"\"\"\n",
    "Function which returns the labelled image after applying CRF\n",
    "\n",
    "\"\"\"\n",
    "\n",
    "#Original_image = Image which has to labelled\n",
    "#Annotated image = Which has been labelled by some technique( FCN in this case)\n",
    "#Output_image = The final output image after applying CRF\n",
    "#Use_2d = boolean variable \n",
    "#if use_2d = True specialised 2D fucntions will be applied\n",
    "#else Generic functions will be applied\n",
    "\n",
    "def crf(original_image, annotated_image,output_image, use_2d = True):\n",
    "    \n",
    "    # Converting annotated image to RGB if it is Gray scale\n",
    "    if(len(annotated_image.shape)<3):\n",
    "        annotated_image = gray2rgb(annotated_image)\n",
    "    \n",
    "    imsave(\"testing2.png\",annotated_image)\n",
    "        \n",
    "    #Converting the annotations RGB color to single 32 bit integer\n",
    "    annotated_label = annotated_image[:,:,0] + (annotated_image[:,:,1]<<8) + (annotated_image[:,:,2]<<16)\n",
    "    \n",
    "    # Convert the 32bit integer color to 0,1, 2, ... labels.\n",
    "    colors, labels = np.unique(annotated_label, return_inverse=True)\n",
    "    \n",
    "    #Creating a mapping back to 32 bit colors\n",
    "    colorize = np.empty((len(colors), 3), np.uint8)\n",
    "    colorize[:,0] = (colors & 0x0000FF)\n",
    "    colorize[:,1] = (colors & 0x00FF00) >> 8\n",
    "    colorize[:,2] = (colors & 0xFF0000) >> 16\n",
    "    \n",
    "    #Gives no of class labels in the annotated image\n",
    "    n_labels = len(set(labels.flat)) \n",
    "    \n",
    "    print(\"No of labels in the Image are \")\n",
    "    print(n_labels)\n",
    "    \n",
    "    \n",
    "    #Setting up the CRF model\n",
    "    if use_2d :\n",
    "        d = dcrf.DenseCRF2D(original_image.shape[1], original_image.shape[0], n_labels)\n",
    "\n",
    "        # get unary potentials (neg log probability)\n",
    "        U = unary_from_labels(labels, n_labels, gt_prob=0.7, zero_unsure=False)\n",
    "        d.setUnaryEnergy(U)\n",
    "\n",
    "        # This adds the color-independent term, features are the locations only.\n",
    "        d.addPairwiseGaussian(sxy=(3, 3), compat=3, kernel=dcrf.DIAG_KERNEL,\n",
    "                          normalization=dcrf.NORMALIZE_SYMMETRIC)\n",
    "\n",
    "        # This adds the color-dependent term, i.e. features are (x,y,r,g,b).\n",
    "        d.addPairwiseBilateral(sxy=(80, 80), srgb=(13, 13, 13), rgbim=original_image,\n",
    "                           compat=10,\n",
    "                           kernel=dcrf.DIAG_KERNEL,\n",
    "                           normalization=dcrf.NORMALIZE_SYMMETRIC)\n",
    "        \n",
    "    #Run Inference for 5 steps \n",
    "    Q = d.inference(5)\n",
    "\n",
    "    # Find out the most probable class for each pixel.\n",
    "    MAP = np.argmax(Q, axis=0)\n",
    "\n",
    "    # Convert the MAP (labels) back to the corresponding colors and save the image.\n",
    "    # Note that there is no \"unknown\" here anymore, no matter what we had at first.\n",
    "    MAP = colorize[MAP,:]\n",
    "    imsave(output_image,MAP.reshape(original_image.shape))\n",
    "    return MAP.reshape(original_image.shape)\n",
    "\n",
    "    \n",
    "    \n",
    "\n"
   ]
  },
  {
   "cell_type": "code",
   "execution_count": 10,
   "metadata": {
    "collapsed": true
   },
   "outputs": [],
   "source": [
    "annotated_image2 = imread(\"annotation1_fcn8.png\")"
   ]
  },
  {
   "cell_type": "code",
   "execution_count": 11,
   "metadata": {
    "collapsed": false
   },
   "outputs": [
    {
     "data": {
      "text/plain": [
       "<matplotlib.image.AxesImage at 0x252908a8208>"
      ]
     },
     "execution_count": 11,
     "metadata": {},
     "output_type": "execute_result"
    },
    {
     "data": {
      "image/png": "[encoded data removed]",
      "text/plain": [
       "<Figure size 432x288 with 1 Axes>"
      ]
     },
     "metadata": {},
     "output_type": "display_data"
    }
   ],
   "source": [
    "plt.imshow(annotated_image2)"
   ]
  },
  {
   "cell_type": "code",
   "execution_count": 59,
   "metadata": {
    "collapsed": false
   },
   "outputs": [
    {
     "name": "stdout",
     "output_type": "stream",
     "text": [
      "No of labels in the Image are \n",
      "3\n"
     ]
    }
   ],
   "source": [
    "#Applying CRF on FCN-16 annotated image\n",
    "output1 = crf(image,annotated_image1,\"crf1_fcn16.png\")"
   ]
  },
  {
   "cell_type": "code",
   "execution_count": 16,
   "metadata": {
    "collapsed": false
   },
   "outputs": [
    {
     "name": "stderr",
     "output_type": "stream",
     "text": [
      "C:\\Users\\DELL\\AppData\\Roaming\\Python\\Python35\\site-packages\\skimage\\io\\_io.py:140: UserWarning: testing2.png is a low contrast image\n",
      "  warn('%s is a low contrast image' % fname)\n"
     ]
    },
    {
     "name": "stdout",
     "output_type": "stream",
     "text": [
      "No of labels in the Image are \n",
      "14\n"
     ]
    },
    {
     "name": "stderr",
     "output_type": "stream",
     "text": [
      "C:\\Users\\DELL\\AppData\\Roaming\\Python\\Python35\\site-packages\\skimage\\io\\_io.py:140: UserWarning: crf1_fcn8.png is a low contrast image\n",
      "  warn('%s is a low contrast image' % fname)\n"
     ]
    }
   ],
   "source": [
    "#Applying CRF on FCN-8 annotated image\n",
    "output2 = crf(image,annotated_image2,\"crf1_fcn8.png\")"
   ]
  },
  {
   "cell_type": "code",
   "execution_count": 17,
   "metadata": {
    "collapsed": true
   },
   "outputs": [],
   "source": [
    "#Converting image to gray scale for better visibility\n",
    "output2 = rgb2gray(output2)\n",
    "# output1 = rgb2gray(output1)"
   ]
  },
  {
   "cell_type": "code",
   "execution_count": 18,
   "metadata": {
    "collapsed": false
   },
   "outputs": [
    {
     "data": {
      "text/plain": [
       "<matplotlib.image.AxesImage at 0x25290b3a550>"
      ]
     },
     "execution_count": 18,
     "metadata": {},
     "output_type": "execute_result"
    },
    {
     "data": {
      "image/png": "[encoded data removed]",
      "text/plain": [
       "<Figure size 432x288 with 1 Axes>"
      ]
     },
     "metadata": {},
     "output_type": "display_data"
    }
   ],
   "source": [
    "#Plotting the labelled image after applyiny CRF on FCN-16 and FCN-8 annotations\n",
    "#Note : The left and right ones are obtained from FCN-16 and FCN-8 respectively\n",
    "# plt.subplot(1,2,1)\n",
    "plt.imshow(output2)\n",
    "# plt.subplot(1,2,2)\n",
    "# plt.imshow(output2)"
   ]
  },
  {
   "cell_type": "code",
   "execution_count": null,
   "metadata": {
    "collapsed": true
   },
   "outputs": [],
   "source": []
  },
  {
   "cell_type": "code",
   "execution_count": null,
   "metadata": {
    "collapsed": true
   },
   "outputs": [],
   "source": []
  }
 ],
 "metadata": {
  "anaconda-cloud": {},
  "kernelspec": {
   "display_name": "Python [conda root]",
   "language": "python",
   "name": "conda-root-py"
  },
  "language_info": {
   "codemirror_mode": {
    "name": "ipython",
    "version": 3
   },
   "file_extension": ".py",
   "mimetype": "text/x-python",
   "name": "python",
   "nbconvert_exporter": "python",
   "pygments_lexer": "ipython3",
   "version": "3.5.6"
  }
 },
 "nbformat": 4,
 "nbformat_minor": 2
}
